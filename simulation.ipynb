{
 "cells": [
  {
   "cell_type": "code",
   "execution_count": 97,
   "id": "2ad4742b",
   "metadata": {},
   "outputs": [],
   "source": [
    "import numpy as np\n",
    "import pandas as pd\n",
    "\n",
    "np.random.seed(29)\n"
   ]
  },
  {
   "cell_type": "markdown",
   "id": "4139f17d",
   "metadata": {},
   "source": [
    "1. How likely is it that you roll doubles when rolling two dice?"
   ]
  },
  {
   "cell_type": "code",
   "execution_count": 23,
   "id": "e4fca004",
   "metadata": {},
   "outputs": [],
   "source": [
    "outcomes = [1,2,3,4,5,6]\n",
    "n_trials = 2\n",
    "n_simulations = 10_000"
   ]
  },
  {
   "cell_type": "code",
   "execution_count": 111,
   "id": "f51d7a3a",
   "metadata": {},
   "outputs": [
    {
     "data": {
      "text/plain": [
       "array([[5, 4, 5, ..., 5, 5, 2],\n",
       "       [3, 4, 3, ..., 1, 5, 5],\n",
       "       [5, 4, 6, ..., 5, 2, 5],\n",
       "       ...,\n",
       "       [3, 5, 6, ..., 1, 3, 1],\n",
       "       [4, 2, 3, ..., 3, 4, 1],\n",
       "       [6, 3, 2, ..., 6, 5, 2]])"
      ]
     },
     "execution_count": 111,
     "metadata": {},
     "output_type": "execute_result"
    }
   ],
   "source": [
    "rolls = np.random.choice(outcomes,(n_simulations, n_trials,))\n",
    "rolls"
   ]
  },
  {
   "cell_type": "code",
   "execution_count": 115,
   "id": "7f9196f9",
   "metadata": {},
   "outputs": [
    {
     "data": {
      "text/html": [
       "<div>\n",
       "<style scoped>\n",
       "    .dataframe tbody tr th:only-of-type {\n",
       "        vertical-align: middle;\n",
       "    }\n",
       "\n",
       "    .dataframe tbody tr th {\n",
       "        vertical-align: top;\n",
       "    }\n",
       "\n",
       "    .dataframe thead th {\n",
       "        text-align: right;\n",
       "    }\n",
       "</style>\n",
       "<table border=\"1\" class=\"dataframe\">\n",
       "  <thead>\n",
       "    <tr style=\"text-align: right;\">\n",
       "      <th></th>\n",
       "      <th>0</th>\n",
       "      <th>1</th>\n",
       "      <th>2</th>\n",
       "      <th>3</th>\n",
       "      <th>4</th>\n",
       "      <th>5</th>\n",
       "      <th>6</th>\n",
       "      <th>7</th>\n",
       "      <th>8</th>\n",
       "      <th>9</th>\n",
       "      <th>...</th>\n",
       "      <th>9990</th>\n",
       "      <th>9991</th>\n",
       "      <th>9992</th>\n",
       "      <th>9993</th>\n",
       "      <th>9994</th>\n",
       "      <th>9995</th>\n",
       "      <th>9996</th>\n",
       "      <th>9997</th>\n",
       "      <th>9998</th>\n",
       "      <th>9999</th>\n",
       "    </tr>\n",
       "  </thead>\n",
       "  <tbody>\n",
       "    <tr>\n",
       "      <th>0</th>\n",
       "      <td>5</td>\n",
       "      <td>4</td>\n",
       "      <td>5</td>\n",
       "      <td>5</td>\n",
       "      <td>1</td>\n",
       "      <td>1</td>\n",
       "      <td>6</td>\n",
       "      <td>4</td>\n",
       "      <td>6</td>\n",
       "      <td>1</td>\n",
       "      <td>...</td>\n",
       "      <td>5</td>\n",
       "      <td>2</td>\n",
       "      <td>6</td>\n",
       "      <td>3</td>\n",
       "      <td>1</td>\n",
       "      <td>4</td>\n",
       "      <td>3</td>\n",
       "      <td>5</td>\n",
       "      <td>5</td>\n",
       "      <td>2</td>\n",
       "    </tr>\n",
       "    <tr>\n",
       "      <th>1</th>\n",
       "      <td>3</td>\n",
       "      <td>4</td>\n",
       "      <td>3</td>\n",
       "      <td>3</td>\n",
       "      <td>6</td>\n",
       "      <td>1</td>\n",
       "      <td>2</td>\n",
       "      <td>6</td>\n",
       "      <td>5</td>\n",
       "      <td>6</td>\n",
       "      <td>...</td>\n",
       "      <td>3</td>\n",
       "      <td>1</td>\n",
       "      <td>4</td>\n",
       "      <td>2</td>\n",
       "      <td>5</td>\n",
       "      <td>5</td>\n",
       "      <td>3</td>\n",
       "      <td>1</td>\n",
       "      <td>5</td>\n",
       "      <td>5</td>\n",
       "    </tr>\n",
       "    <tr>\n",
       "      <th>2</th>\n",
       "      <td>5</td>\n",
       "      <td>4</td>\n",
       "      <td>6</td>\n",
       "      <td>6</td>\n",
       "      <td>1</td>\n",
       "      <td>4</td>\n",
       "      <td>5</td>\n",
       "      <td>1</td>\n",
       "      <td>3</td>\n",
       "      <td>6</td>\n",
       "      <td>...</td>\n",
       "      <td>2</td>\n",
       "      <td>5</td>\n",
       "      <td>3</td>\n",
       "      <td>3</td>\n",
       "      <td>6</td>\n",
       "      <td>2</td>\n",
       "      <td>5</td>\n",
       "      <td>5</td>\n",
       "      <td>2</td>\n",
       "      <td>5</td>\n",
       "    </tr>\n",
       "    <tr>\n",
       "      <th>3</th>\n",
       "      <td>1</td>\n",
       "      <td>4</td>\n",
       "      <td>3</td>\n",
       "      <td>5</td>\n",
       "      <td>3</td>\n",
       "      <td>3</td>\n",
       "      <td>3</td>\n",
       "      <td>3</td>\n",
       "      <td>6</td>\n",
       "      <td>3</td>\n",
       "      <td>...</td>\n",
       "      <td>5</td>\n",
       "      <td>5</td>\n",
       "      <td>3</td>\n",
       "      <td>1</td>\n",
       "      <td>1</td>\n",
       "      <td>2</td>\n",
       "      <td>6</td>\n",
       "      <td>2</td>\n",
       "      <td>1</td>\n",
       "      <td>5</td>\n",
       "    </tr>\n",
       "    <tr>\n",
       "      <th>4</th>\n",
       "      <td>2</td>\n",
       "      <td>6</td>\n",
       "      <td>1</td>\n",
       "      <td>3</td>\n",
       "      <td>6</td>\n",
       "      <td>5</td>\n",
       "      <td>4</td>\n",
       "      <td>6</td>\n",
       "      <td>2</td>\n",
       "      <td>4</td>\n",
       "      <td>...</td>\n",
       "      <td>2</td>\n",
       "      <td>6</td>\n",
       "      <td>2</td>\n",
       "      <td>4</td>\n",
       "      <td>1</td>\n",
       "      <td>4</td>\n",
       "      <td>5</td>\n",
       "      <td>4</td>\n",
       "      <td>2</td>\n",
       "      <td>1</td>\n",
       "    </tr>\n",
       "  </tbody>\n",
       "</table>\n",
       "<p>5 rows × 10000 columns</p>\n",
       "</div>"
      ],
      "text/plain": [
       "   0     1     2     3     4     5     6     7     8     9     ...  9990  \\\n",
       "0     5     4     5     5     1     1     6     4     6     1  ...     5   \n",
       "1     3     4     3     3     6     1     2     6     5     6  ...     3   \n",
       "2     5     4     6     6     1     4     5     1     3     6  ...     2   \n",
       "3     1     4     3     5     3     3     3     3     6     3  ...     5   \n",
       "4     2     6     1     3     6     5     4     6     2     4  ...     2   \n",
       "\n",
       "   9991  9992  9993  9994  9995  9996  9997  9998  9999  \n",
       "0     2     6     3     1     4     3     5     5     2  \n",
       "1     1     4     2     5     5     3     1     5     5  \n",
       "2     5     3     3     6     2     5     5     2     5  \n",
       "3     5     3     1     1     2     6     2     1     5  \n",
       "4     6     2     4     1     4     5     4     2     1  \n",
       "\n",
       "[5 rows x 10000 columns]"
      ]
     },
     "execution_count": 115,
     "metadata": {},
     "output_type": "execute_result"
    }
   ],
   "source": [
    "df_rolls = pd.DataFrame(rolls)\n",
    "df_rolls.head()"
   ]
  },
  {
   "cell_type": "code",
   "execution_count": 116,
   "id": "ff777513",
   "metadata": {},
   "outputs": [
    {
     "data": {
      "text/plain": [
       "0.1647"
      ]
     },
     "execution_count": 116,
     "metadata": {},
     "output_type": "execute_result"
    }
   ],
   "source": [
    "(df_rolls[0] == df_rolls[1]).mean()"
   ]
  },
  {
   "cell_type": "markdown",
   "id": "4b5658e0",
   "metadata": {},
   "source": [
    "2. If you flip 8 coins, what is the probability of getting exactly 3 heads? "
   ]
  },
  {
   "cell_type": "code",
   "execution_count": 117,
   "id": "054909e0",
   "metadata": {},
   "outputs": [],
   "source": [
    "outcomes = ['H','T']\n",
    "n_trials = 8\n",
    "n_simulations = 10_000"
   ]
  },
  {
   "cell_type": "code",
   "execution_count": 118,
   "id": "44758508",
   "metadata": {},
   "outputs": [],
   "source": [
    "three_heads = np.random.choice(outcomes, (n_simulations, n_trials))"
   ]
  },
  {
   "cell_type": "code",
   "execution_count": 119,
   "id": "8c7981f4",
   "metadata": {},
   "outputs": [
    {
     "data": {
      "text/plain": [
       "0.2244"
      ]
     },
     "execution_count": 119,
     "metadata": {},
     "output_type": "execute_result"
    }
   ],
   "source": [
    "((three_heads == \"H\").sum(axis=1) == 3).mean()"
   ]
  },
  {
   "cell_type": "markdown",
   "id": "6280244f",
   "metadata": {},
   "source": [
    "What is the probability of getting more than 3 heads?"
   ]
  },
  {
   "cell_type": "code",
   "execution_count": 120,
   "id": "e87326dd",
   "metadata": {},
   "outputs": [
    {
     "data": {
      "text/plain": [
       "0.6287"
      ]
     },
     "execution_count": 120,
     "metadata": {},
     "output_type": "execute_result"
    }
   ],
   "source": [
    "((three_heads == \"H\").sum(axis=1) > 3).mean()"
   ]
  },
  {
   "cell_type": "markdown",
   "id": "83bac214",
   "metadata": {},
   "source": [
    "3. There are approximitely 3 web development cohorts for every 1 data science cohort at Codeup. Assuming that Codeup randomly selects an alumni to put on a billboard, what are the odds that the two billboards I drive past both have data science students on them?"
   ]
  },
  {
   "cell_type": "code",
   "execution_count": 17,
   "id": "875eb78d",
   "metadata": {},
   "outputs": [],
   "source": [
    "n_sim_billboards = nrows = 10_000\n",
    "n_boards = ncols = 2 \n",
    "p_data_science = .25"
   ]
  },
  {
   "cell_type": "code",
   "execution_count": 18,
   "id": "628237c0",
   "metadata": {},
   "outputs": [
    {
     "data": {
      "text/plain": [
       "array([[0.51036449, 0.22892431],\n",
       "       [0.49224936, 0.92355859],\n",
       "       [0.63017188, 0.72776579],\n",
       "       ...,\n",
       "       [0.23403889, 0.54977971],\n",
       "       [0.3471889 , 0.97657646],\n",
       "       [0.546266  , 0.59416714]])"
      ]
     },
     "execution_count": 18,
     "metadata": {},
     "output_type": "execute_result"
    }
   ],
   "source": [
    "data = np.random.random((nrows,ncols))\n",
    "data"
   ]
  },
  {
   "cell_type": "code",
   "execution_count": 19,
   "id": "fa19c04a",
   "metadata": {},
   "outputs": [
    {
     "data": {
      "text/plain": [
       "0.0649"
      ]
     },
     "execution_count": 19,
     "metadata": {},
     "output_type": "execute_result"
    }
   ],
   "source": [
    "billboard = (data <= p_data_science)\n",
    "(billboard.sum(axis=1) == 2).mean()"
   ]
  },
  {
   "cell_type": "markdown",
   "id": "e86c4254",
   "metadata": {},
   "source": [
    "4. Codeup students buy, on average, 3 poptart packages with a standard deviation of 1.5 a day from the snack vending machine. If on monday the machine is restocked with 17 poptart packages, how likely is it that I will be able to buy some poptarts on Friday afternoon? (Remember, if you have mean and standard deviation, use the np.random.normal) You'll need to make a judgement call on how to handle some of your values"
   ]
  },
  {
   "cell_type": "code",
   "execution_count": 25,
   "id": "46958354",
   "metadata": {},
   "outputs": [],
   "source": [
    "trials_4 = 10_000\n",
    "mean = 3\n",
    "std = 1.5\n",
    "days_4 = 5"
   ]
  },
  {
   "cell_type": "code",
   "execution_count": 39,
   "id": "cd5546c9",
   "metadata": {},
   "outputs": [
    {
     "data": {
      "text/plain": [
       "array([[ 4.68899437,  2.6756616 ,  3.39512131,  0.87045861,  4.01475447],\n",
       "       [ 3.19698286,  6.11904905,  4.55929297,  2.6521373 ,  5.3352225 ],\n",
       "       [ 1.47517336,  4.38739502,  5.33336319,  3.61011211,  3.29730779],\n",
       "       ...,\n",
       "       [ 5.52309748,  2.4387194 ,  4.03023755,  0.07696409,  1.78096784],\n",
       "       [ 2.62509817,  5.91481937,  2.4753681 ,  4.63182411,  2.65654557],\n",
       "       [ 3.05397509, -0.11430862,  4.74123596,  3.83454333,  2.78390769]])"
      ]
     },
     "execution_count": 39,
     "metadata": {},
     "output_type": "execute_result"
    }
   ],
   "source": [
    "pop_tarts = np.random.normal(mean, std, (trials_4, days_4))\n",
    "pop_tarts"
   ]
  },
  {
   "cell_type": "code",
   "execution_count": 42,
   "id": "b5c60d7b",
   "metadata": {},
   "outputs": [
    {
     "data": {
      "text/plain": [
       "array([15.64499035, 21.86268468, 18.10335147, ..., 13.84998637,\n",
       "       18.30365531, 14.29935345])"
      ]
     },
     "execution_count": 42,
     "metadata": {},
     "output_type": "execute_result"
    }
   ],
   "source": [
    "pop_tarts_a = pop_tarts.sum(axis=1)\n",
    "pop_tarts_a"
   ]
  },
  {
   "cell_type": "code",
   "execution_count": 43,
   "id": "45c97005",
   "metadata": {},
   "outputs": [
    {
     "data": {
      "text/plain": [
       "0.6213"
      ]
     },
     "execution_count": 43,
     "metadata": {},
     "output_type": "execute_result"
    }
   ],
   "source": [
    "(17 - pop_tarts_a >= 1).mean()"
   ]
  },
  {
   "cell_type": "markdown",
   "id": "5d162946",
   "metadata": {},
   "source": [
    "5. Compare Heights\n",
    "Men have an average height of 178 cm and standard deviation of 8cm."
   ]
  },
  {
   "cell_type": "markdown",
   "id": "881bcfa8",
   "metadata": {},
   "source": [
    "Women have a mean of 170, sd = 6cm."
   ]
  },
  {
   "cell_type": "markdown",
   "id": "842cfda0",
   "metadata": {},
   "source": [
    "Since you have means and standard deviations, you can use np.random.normal to generate observations."
   ]
  },
  {
   "cell_type": "code",
   "execution_count": 44,
   "id": "66f0063e",
   "metadata": {},
   "outputs": [],
   "source": [
    "mean_men_height = 178\n",
    "men_std = 8"
   ]
  },
  {
   "cell_type": "code",
   "execution_count": 45,
   "id": "0f5896df",
   "metadata": {},
   "outputs": [],
   "source": [
    "mean_women_height = 170\n",
    "women_std = 6"
   ]
  },
  {
   "cell_type": "code",
   "execution_count": 47,
   "id": "ff3940d5",
   "metadata": {},
   "outputs": [],
   "source": [
    "trials = 10_000"
   ]
  },
  {
   "cell_type": "raw",
   "id": "2974f82e",
   "metadata": {},
   "source": [
    "If a man and woman are chosen at random, what is the likelihood the woman is taller than the man?"
   ]
  },
  {
   "cell_type": "code",
   "execution_count": 48,
   "id": "219c3b1d",
   "metadata": {},
   "outputs": [
    {
     "data": {
      "text/plain": [
       "array([171.12991107, 165.79804099, 183.93699239, ..., 164.7816077 ,\n",
       "       186.72151715, 178.87522168])"
      ]
     },
     "execution_count": 48,
     "metadata": {},
     "output_type": "execute_result"
    }
   ],
   "source": [
    "men_heights = np.random.normal(mean_men_height, men_std, trials)\n",
    "men_heights"
   ]
  },
  {
   "cell_type": "code",
   "execution_count": 50,
   "id": "24fe63a1",
   "metadata": {},
   "outputs": [
    {
     "data": {
      "text/plain": [
       "array([177.56434115, 166.13632267, 159.84914603, ..., 175.36238098,\n",
       "       175.69165827, 169.72678246])"
      ]
     },
     "execution_count": 50,
     "metadata": {},
     "output_type": "execute_result"
    }
   ],
   "source": [
    "women_heights = np.random.normal(mean_women_height, women_std, trials)\n",
    "women_heights"
   ]
  },
  {
   "cell_type": "code",
   "execution_count": 51,
   "id": "5933417c",
   "metadata": {},
   "outputs": [
    {
     "data": {
      "text/plain": [
       "0.2176"
      ]
     },
     "execution_count": 51,
     "metadata": {},
     "output_type": "execute_result"
    }
   ],
   "source": [
    "(women_heights > men_heights).mean()"
   ]
  },
  {
   "cell_type": "markdown",
   "id": "5b4b4671",
   "metadata": {},
   "source": [
    "6. When installing anaconda on a student's computer, there's a 1 in 250 chance that the download is corrupted and the installation fails. What are the odds that after having 50 students download anaconda, no one has an installation issue? "
   ]
  },
  {
   "cell_type": "code",
   "execution_count": 61,
   "id": "f000644a",
   "metadata": {},
   "outputs": [],
   "source": [
    "p_corrupted = 1/250\n",
    "students = ncols = 50\n",
    "trials = nrows = 10_000"
   ]
  },
  {
   "cell_type": "code",
   "execution_count": 62,
   "id": "1b3f671c",
   "metadata": {},
   "outputs": [
    {
     "data": {
      "text/plain": [
       "array([[0.98263348, 0.67381045, 0.44315353, ..., 0.16615124, 0.91821421,\n",
       "        0.44222655],\n",
       "       [0.73467615, 0.11694303, 0.17996408, ..., 0.98573734, 0.93247076,\n",
       "        0.55579589],\n",
       "       [0.54193729, 0.51946803, 0.34748914, ..., 0.87767443, 0.18581018,\n",
       "        0.77845822],\n",
       "       ...,\n",
       "       [0.99525826, 0.36479391, 0.32192952, ..., 0.34925864, 0.37654   ,\n",
       "        0.20030533],\n",
       "       [0.59824809, 0.59987501, 0.18603805, ..., 0.24025922, 0.99374766,\n",
       "        0.24135302],\n",
       "       [0.97171507, 0.21461742, 0.42788527, ..., 0.66620715, 0.32101351,\n",
       "        0.99982711]])"
      ]
     },
     "execution_count": 62,
     "metadata": {},
     "output_type": "execute_result"
    }
   ],
   "source": [
    "data = np.random.random((nrows, ncols))\n",
    "data"
   ]
  },
  {
   "cell_type": "code",
   "execution_count": 63,
   "id": "f1270bba",
   "metadata": {},
   "outputs": [
    {
     "data": {
      "text/plain": [
       "array([[False, False, False, ..., False, False, False],\n",
       "       [False, False, False, ..., False, False, False],\n",
       "       [False, False, False, ..., False, False, False],\n",
       "       ...,\n",
       "       [False, False, False, ..., False, False, False],\n",
       "       [False, False, False, ..., False, False, False],\n",
       "       [False, False, False, ..., False, False, False]])"
      ]
     },
     "execution_count": 63,
     "metadata": {},
     "output_type": "execute_result"
    }
   ],
   "source": [
    "corrupted = data <= p_corrupted\n",
    "corrupted"
   ]
  },
  {
   "cell_type": "code",
   "execution_count": 64,
   "id": "42b9c967",
   "metadata": {},
   "outputs": [
    {
     "data": {
      "text/plain": [
       "array([1, 0, 1, ..., 1, 0, 0])"
      ]
     },
     "execution_count": 64,
     "metadata": {},
     "output_type": "execute_result"
    }
   ],
   "source": [
    "corrupted.sum(axis=1)"
   ]
  },
  {
   "cell_type": "code",
   "execution_count": 65,
   "id": "52b1bd92",
   "metadata": {},
   "outputs": [
    {
     "data": {
      "text/plain": [
       "0.8197"
      ]
     },
     "execution_count": 65,
     "metadata": {},
     "output_type": "execute_result"
    }
   ],
   "source": [
    "(corrupted.sum(axis=1) == 0).mean()"
   ]
  },
  {
   "cell_type": "markdown",
   "id": "edfe3530",
   "metadata": {},
   "source": [
    "100 students?"
   ]
  },
  {
   "cell_type": "code",
   "execution_count": 66,
   "id": "ed20e949",
   "metadata": {},
   "outputs": [],
   "source": [
    "p_corrupted_100 = 1/250\n",
    "students_100 = ncols_100 = 100\n",
    "trials = nrows = 10_000"
   ]
  },
  {
   "cell_type": "code",
   "execution_count": 67,
   "id": "cdb1921a",
   "metadata": {},
   "outputs": [
    {
     "data": {
      "text/plain": [
       "array([[0.00810442, 0.41198   , 0.32954114, ..., 0.49049137, 0.16288112,\n",
       "        0.4802257 ],\n",
       "       [0.51534982, 0.76085467, 0.80080464, ..., 0.67341033, 0.93373254,\n",
       "        0.90076016],\n",
       "       [0.20121889, 0.52233493, 0.16757199, ..., 0.33723264, 0.81849369,\n",
       "        0.37929812],\n",
       "       ...,\n",
       "       [0.43185658, 0.11497543, 0.9924364 , ..., 0.1388827 , 0.59905708,\n",
       "        0.4101757 ],\n",
       "       [0.76711801, 0.51689894, 0.67667994, ..., 0.8585721 , 0.03591773,\n",
       "        0.88096867],\n",
       "       [0.7858843 , 0.49171553, 0.60369355, ..., 0.06907438, 0.31618962,\n",
       "        0.54699545]])"
      ]
     },
     "execution_count": 67,
     "metadata": {},
     "output_type": "execute_result"
    }
   ],
   "source": [
    "data = np.random.random((nrows, ncols_100))\n",
    "data"
   ]
  },
  {
   "cell_type": "code",
   "execution_count": 68,
   "id": "bd4b1c1f",
   "metadata": {},
   "outputs": [
    {
     "data": {
      "text/plain": [
       "array([[False, False, False, ..., False, False, False],\n",
       "       [False, False, False, ..., False, False, False],\n",
       "       [False, False, False, ..., False, False, False],\n",
       "       ...,\n",
       "       [False, False, False, ..., False, False, False],\n",
       "       [False, False, False, ..., False, False, False],\n",
       "       [False, False, False, ..., False, False, False]])"
      ]
     },
     "execution_count": 68,
     "metadata": {},
     "output_type": "execute_result"
    }
   ],
   "source": [
    "corrupted_100 = data <= p_corrupted\n",
    "corrupted_100"
   ]
  },
  {
   "cell_type": "code",
   "execution_count": 69,
   "id": "be0ef8f2",
   "metadata": {},
   "outputs": [
    {
     "data": {
      "text/plain": [
       "array([0, 0, 1, ..., 0, 1, 1])"
      ]
     },
     "execution_count": 69,
     "metadata": {},
     "output_type": "execute_result"
    }
   ],
   "source": [
    "corrupted_100.sum(axis=1)"
   ]
  },
  {
   "cell_type": "code",
   "execution_count": 70,
   "id": "d83bb999",
   "metadata": {},
   "outputs": [
    {
     "data": {
      "text/plain": [
       "0.6629"
      ]
     },
     "execution_count": 70,
     "metadata": {},
     "output_type": "execute_result"
    }
   ],
   "source": [
    "(corrupted_100.sum(axis=1) == 0).mean()"
   ]
  },
  {
   "cell_type": "markdown",
   "id": "76d98e5c",
   "metadata": {},
   "source": [
    "What is the probability that we observe an installation issue within the first 150 students that download anaconda?"
   ]
  },
  {
   "cell_type": "code",
   "execution_count": 71,
   "id": "c3723f44",
   "metadata": {},
   "outputs": [],
   "source": [
    "p_corrupted_150 = 1/250\n",
    "students_150 = ncols_150 = 150"
   ]
  },
  {
   "cell_type": "code",
   "execution_count": 72,
   "id": "dfdc6a15",
   "metadata": {},
   "outputs": [],
   "source": [
    "data_150 = np.random.random((nrows, ncols_150))"
   ]
  },
  {
   "cell_type": "code",
   "execution_count": 76,
   "id": "aaeefbbb",
   "metadata": {},
   "outputs": [],
   "source": [
    "corrupted_150 = (data_150 <= p_corrupted_150)"
   ]
  },
  {
   "cell_type": "code",
   "execution_count": 81,
   "id": "3301bb08",
   "metadata": {},
   "outputs": [],
   "source": [
    "(corrupted_150.sum(axis=1) == 0).mean()"
   ]
  },
  {
   "cell_type": "code",
   "execution_count": 78,
   "id": "c38d66df",
   "metadata": {},
   "outputs": [
    {
     "data": {
      "text/plain": [
       "0.4538"
      ]
     },
     "execution_count": 78,
     "metadata": {},
     "output_type": "execute_result"
    }
   ],
   "source": [
    "1 - (corrupted_150.sum(axis=1) == 0).mean()"
   ]
  },
  {
   "cell_type": "code",
   "execution_count": 79,
   "id": "46fdc0cb",
   "metadata": {},
   "outputs": [],
   "source": [
    "from scipy import stats"
   ]
  },
  {
   "cell_type": "code",
   "execution_count": 80,
   "id": "02323d3e",
   "metadata": {},
   "outputs": [
    {
     "data": {
      "text/plain": [
       "0.4518483022503269"
      ]
     },
     "execution_count": 80,
     "metadata": {},
     "output_type": "execute_result"
    }
   ],
   "source": [
    "#double checking my work\n",
    "stats.binom(150,0.004).sf(0)"
   ]
  },
  {
   "cell_type": "markdown",
   "id": "3aba1737",
   "metadata": {},
   "source": [
    "How likely is it that 450 students all download anaconda without an issue?"
   ]
  },
  {
   "cell_type": "code",
   "execution_count": 82,
   "id": "a0e0c631",
   "metadata": {},
   "outputs": [],
   "source": [
    "students_450 = ncols_450 = 450"
   ]
  },
  {
   "cell_type": "code",
   "execution_count": 83,
   "id": "da0fd45f",
   "metadata": {},
   "outputs": [],
   "source": [
    "data_450 = np.random.random((nrows, ncols_450))"
   ]
  },
  {
   "cell_type": "code",
   "execution_count": 84,
   "id": "a35f53b9",
   "metadata": {},
   "outputs": [
    {
     "data": {
      "text/plain": [
       "0.1686"
      ]
     },
     "execution_count": 84,
     "metadata": {},
     "output_type": "execute_result"
    }
   ],
   "source": [
    "corrupted_450 = (data_450 <= p_corrupted)\n",
    "(corrupted_450.sum(axis=1) == 0).mean()"
   ]
  },
  {
   "cell_type": "markdown",
   "id": "daceb87d",
   "metadata": {},
   "source": [
    "7. There's a 70% chance on any given day that there will be at least one food truck at Travis Park. However, you haven't seen a food truck there in 3 days. How unlikely is this?"
   ]
  },
  {
   "cell_type": "code",
   "execution_count": 85,
   "id": "66705929",
   "metadata": {},
   "outputs": [],
   "source": [
    "n_trials = 10_000\n",
    "p_foodtruck = .70\n",
    "days_7 = 3"
   ]
  },
  {
   "cell_type": "code",
   "execution_count": 86,
   "id": "d6a02709",
   "metadata": {},
   "outputs": [
    {
     "data": {
      "text/plain": [
       "array([[0.41845628, 0.59687274, 0.97696196],\n",
       "       [0.01178332, 0.03197261, 0.24133024],\n",
       "       [0.80319717, 0.07792901, 0.51694973],\n",
       "       ...,\n",
       "       [0.39257664, 0.57862958, 0.437011  ],\n",
       "       [0.8213894 , 0.80677924, 0.72665692],\n",
       "       [0.2395986 , 0.50718163, 0.72681392]])"
      ]
     },
     "execution_count": 86,
     "metadata": {},
     "output_type": "execute_result"
    }
   ],
   "source": [
    "data_7 = np.random.random((n_trials,days_7))\n",
    "data_7"
   ]
  },
  {
   "cell_type": "code",
   "execution_count": 87,
   "id": "f4382fac",
   "metadata": {},
   "outputs": [
    {
     "data": {
      "text/plain": [
       "0.0258"
      ]
     },
     "execution_count": 87,
     "metadata": {},
     "output_type": "execute_result"
    }
   ],
   "source": [
    "food_truck = (data_7 <= p_foodtruck)\n",
    "((food_truck).sum(axis=1) == 0).mean()"
   ]
  },
  {
   "cell_type": "markdown",
   "id": "a285c9f2",
   "metadata": {},
   "source": [
    "How likely is it that a food truck will show up sometime this week?"
   ]
  },
  {
   "cell_type": "code",
   "execution_count": 88,
   "id": "2a0f8493",
   "metadata": {},
   "outputs": [
    {
     "data": {
      "text/plain": [
       "0.9979"
      ]
     },
     "execution_count": 88,
     "metadata": {},
     "output_type": "execute_result"
    }
   ],
   "source": [
    "days_7_1 = 5\n",
    "\n",
    "data_7_1 = np.random.random((n_trials,days_7_1))\n",
    "food_truck = data_7_1 <= p_foodtruck\n",
    "((food_truck).sum(axis=1) >= 1).mean()"
   ]
  },
  {
   "cell_type": "markdown",
   "id": "b1008673",
   "metadata": {},
   "source": [
    "8. If 23 people are in the same room, what are the odds that two of them share a birthday? "
   ]
  },
  {
   "cell_type": "code",
   "execution_count": 89,
   "id": "60dcec2f",
   "metadata": {},
   "outputs": [],
   "source": [
    "n_trial = 10_000\n",
    "days_8 = list(range(1,366))\n",
    "\n",
    "people = 23"
   ]
  },
  {
   "cell_type": "code",
   "execution_count": 90,
   "id": "d5cd341c",
   "metadata": {},
   "outputs": [
    {
     "data": {
      "text/plain": [
       "array([[136,  39, 263, ..., 103, 341, 270],\n",
       "       [141,   5, 191, ..., 124,  22,  94],\n",
       "       [269,   5,  76, ..., 162, 146, 120],\n",
       "       ...,\n",
       "       [110, 246, 348, ..., 111, 135,  18],\n",
       "       [ 23, 249, 267, ..., 206, 321,  67],\n",
       "       [206, 147, 235, ..., 198,  66, 279]])"
      ]
     },
     "execution_count": 90,
     "metadata": {},
     "output_type": "execute_result"
    }
   ],
   "source": [
    "data_8 = np.random.choice(days_8,(n_trial,people))\n",
    "data_8"
   ]
  },
  {
   "cell_type": "code",
   "execution_count": 91,
   "id": "4d439cf0",
   "metadata": {},
   "outputs": [
    {
     "data": {
      "text/html": [
       "<div>\n",
       "<style scoped>\n",
       "    .dataframe tbody tr th:only-of-type {\n",
       "        vertical-align: middle;\n",
       "    }\n",
       "\n",
       "    .dataframe tbody tr th {\n",
       "        vertical-align: top;\n",
       "    }\n",
       "\n",
       "    .dataframe thead th {\n",
       "        text-align: right;\n",
       "    }\n",
       "</style>\n",
       "<table border=\"1\" class=\"dataframe\">\n",
       "  <thead>\n",
       "    <tr style=\"text-align: right;\">\n",
       "      <th></th>\n",
       "      <th>0</th>\n",
       "      <th>1</th>\n",
       "      <th>2</th>\n",
       "      <th>3</th>\n",
       "      <th>4</th>\n",
       "      <th>5</th>\n",
       "      <th>6</th>\n",
       "      <th>7</th>\n",
       "      <th>8</th>\n",
       "      <th>9</th>\n",
       "      <th>...</th>\n",
       "      <th>13</th>\n",
       "      <th>14</th>\n",
       "      <th>15</th>\n",
       "      <th>16</th>\n",
       "      <th>17</th>\n",
       "      <th>18</th>\n",
       "      <th>19</th>\n",
       "      <th>20</th>\n",
       "      <th>21</th>\n",
       "      <th>22</th>\n",
       "    </tr>\n",
       "  </thead>\n",
       "  <tbody>\n",
       "    <tr>\n",
       "      <th>0</th>\n",
       "      <td>136</td>\n",
       "      <td>39</td>\n",
       "      <td>263</td>\n",
       "      <td>261</td>\n",
       "      <td>93</td>\n",
       "      <td>166</td>\n",
       "      <td>232</td>\n",
       "      <td>88</td>\n",
       "      <td>220</td>\n",
       "      <td>278</td>\n",
       "      <td>...</td>\n",
       "      <td>125</td>\n",
       "      <td>258</td>\n",
       "      <td>88</td>\n",
       "      <td>253</td>\n",
       "      <td>277</td>\n",
       "      <td>125</td>\n",
       "      <td>226</td>\n",
       "      <td>103</td>\n",
       "      <td>341</td>\n",
       "      <td>270</td>\n",
       "    </tr>\n",
       "    <tr>\n",
       "      <th>1</th>\n",
       "      <td>141</td>\n",
       "      <td>5</td>\n",
       "      <td>191</td>\n",
       "      <td>291</td>\n",
       "      <td>245</td>\n",
       "      <td>253</td>\n",
       "      <td>151</td>\n",
       "      <td>362</td>\n",
       "      <td>242</td>\n",
       "      <td>151</td>\n",
       "      <td>...</td>\n",
       "      <td>111</td>\n",
       "      <td>306</td>\n",
       "      <td>98</td>\n",
       "      <td>46</td>\n",
       "      <td>259</td>\n",
       "      <td>216</td>\n",
       "      <td>230</td>\n",
       "      <td>124</td>\n",
       "      <td>22</td>\n",
       "      <td>94</td>\n",
       "    </tr>\n",
       "    <tr>\n",
       "      <th>2</th>\n",
       "      <td>269</td>\n",
       "      <td>5</td>\n",
       "      <td>76</td>\n",
       "      <td>2</td>\n",
       "      <td>83</td>\n",
       "      <td>226</td>\n",
       "      <td>141</td>\n",
       "      <td>73</td>\n",
       "      <td>334</td>\n",
       "      <td>271</td>\n",
       "      <td>...</td>\n",
       "      <td>151</td>\n",
       "      <td>53</td>\n",
       "      <td>86</td>\n",
       "      <td>243</td>\n",
       "      <td>329</td>\n",
       "      <td>346</td>\n",
       "      <td>104</td>\n",
       "      <td>162</td>\n",
       "      <td>146</td>\n",
       "      <td>120</td>\n",
       "    </tr>\n",
       "    <tr>\n",
       "      <th>3</th>\n",
       "      <td>245</td>\n",
       "      <td>362</td>\n",
       "      <td>56</td>\n",
       "      <td>278</td>\n",
       "      <td>123</td>\n",
       "      <td>40</td>\n",
       "      <td>211</td>\n",
       "      <td>61</td>\n",
       "      <td>287</td>\n",
       "      <td>112</td>\n",
       "      <td>...</td>\n",
       "      <td>353</td>\n",
       "      <td>275</td>\n",
       "      <td>174</td>\n",
       "      <td>165</td>\n",
       "      <td>160</td>\n",
       "      <td>88</td>\n",
       "      <td>276</td>\n",
       "      <td>119</td>\n",
       "      <td>256</td>\n",
       "      <td>112</td>\n",
       "    </tr>\n",
       "    <tr>\n",
       "      <th>4</th>\n",
       "      <td>213</td>\n",
       "      <td>230</td>\n",
       "      <td>299</td>\n",
       "      <td>13</td>\n",
       "      <td>177</td>\n",
       "      <td>224</td>\n",
       "      <td>343</td>\n",
       "      <td>248</td>\n",
       "      <td>294</td>\n",
       "      <td>334</td>\n",
       "      <td>...</td>\n",
       "      <td>213</td>\n",
       "      <td>154</td>\n",
       "      <td>179</td>\n",
       "      <td>128</td>\n",
       "      <td>8</td>\n",
       "      <td>299</td>\n",
       "      <td>273</td>\n",
       "      <td>33</td>\n",
       "      <td>283</td>\n",
       "      <td>186</td>\n",
       "    </tr>\n",
       "    <tr>\n",
       "      <th>...</th>\n",
       "      <td>...</td>\n",
       "      <td>...</td>\n",
       "      <td>...</td>\n",
       "      <td>...</td>\n",
       "      <td>...</td>\n",
       "      <td>...</td>\n",
       "      <td>...</td>\n",
       "      <td>...</td>\n",
       "      <td>...</td>\n",
       "      <td>...</td>\n",
       "      <td>...</td>\n",
       "      <td>...</td>\n",
       "      <td>...</td>\n",
       "      <td>...</td>\n",
       "      <td>...</td>\n",
       "      <td>...</td>\n",
       "      <td>...</td>\n",
       "      <td>...</td>\n",
       "      <td>...</td>\n",
       "      <td>...</td>\n",
       "      <td>...</td>\n",
       "    </tr>\n",
       "    <tr>\n",
       "      <th>9995</th>\n",
       "      <td>170</td>\n",
       "      <td>14</td>\n",
       "      <td>82</td>\n",
       "      <td>291</td>\n",
       "      <td>337</td>\n",
       "      <td>221</td>\n",
       "      <td>293</td>\n",
       "      <td>84</td>\n",
       "      <td>53</td>\n",
       "      <td>359</td>\n",
       "      <td>...</td>\n",
       "      <td>241</td>\n",
       "      <td>242</td>\n",
       "      <td>225</td>\n",
       "      <td>233</td>\n",
       "      <td>92</td>\n",
       "      <td>59</td>\n",
       "      <td>305</td>\n",
       "      <td>363</td>\n",
       "      <td>104</td>\n",
       "      <td>185</td>\n",
       "    </tr>\n",
       "    <tr>\n",
       "      <th>9996</th>\n",
       "      <td>324</td>\n",
       "      <td>99</td>\n",
       "      <td>102</td>\n",
       "      <td>312</td>\n",
       "      <td>111</td>\n",
       "      <td>292</td>\n",
       "      <td>145</td>\n",
       "      <td>318</td>\n",
       "      <td>132</td>\n",
       "      <td>63</td>\n",
       "      <td>...</td>\n",
       "      <td>340</td>\n",
       "      <td>195</td>\n",
       "      <td>311</td>\n",
       "      <td>261</td>\n",
       "      <td>113</td>\n",
       "      <td>264</td>\n",
       "      <td>100</td>\n",
       "      <td>337</td>\n",
       "      <td>192</td>\n",
       "      <td>224</td>\n",
       "    </tr>\n",
       "    <tr>\n",
       "      <th>9997</th>\n",
       "      <td>110</td>\n",
       "      <td>246</td>\n",
       "      <td>348</td>\n",
       "      <td>287</td>\n",
       "      <td>249</td>\n",
       "      <td>228</td>\n",
       "      <td>222</td>\n",
       "      <td>164</td>\n",
       "      <td>350</td>\n",
       "      <td>127</td>\n",
       "      <td>...</td>\n",
       "      <td>250</td>\n",
       "      <td>221</td>\n",
       "      <td>359</td>\n",
       "      <td>356</td>\n",
       "      <td>23</td>\n",
       "      <td>156</td>\n",
       "      <td>191</td>\n",
       "      <td>111</td>\n",
       "      <td>135</td>\n",
       "      <td>18</td>\n",
       "    </tr>\n",
       "    <tr>\n",
       "      <th>9998</th>\n",
       "      <td>23</td>\n",
       "      <td>249</td>\n",
       "      <td>267</td>\n",
       "      <td>319</td>\n",
       "      <td>351</td>\n",
       "      <td>205</td>\n",
       "      <td>275</td>\n",
       "      <td>221</td>\n",
       "      <td>214</td>\n",
       "      <td>308</td>\n",
       "      <td>...</td>\n",
       "      <td>299</td>\n",
       "      <td>45</td>\n",
       "      <td>198</td>\n",
       "      <td>42</td>\n",
       "      <td>322</td>\n",
       "      <td>323</td>\n",
       "      <td>274</td>\n",
       "      <td>206</td>\n",
       "      <td>321</td>\n",
       "      <td>67</td>\n",
       "    </tr>\n",
       "    <tr>\n",
       "      <th>9999</th>\n",
       "      <td>206</td>\n",
       "      <td>147</td>\n",
       "      <td>235</td>\n",
       "      <td>143</td>\n",
       "      <td>306</td>\n",
       "      <td>305</td>\n",
       "      <td>354</td>\n",
       "      <td>74</td>\n",
       "      <td>212</td>\n",
       "      <td>303</td>\n",
       "      <td>...</td>\n",
       "      <td>276</td>\n",
       "      <td>147</td>\n",
       "      <td>3</td>\n",
       "      <td>35</td>\n",
       "      <td>230</td>\n",
       "      <td>256</td>\n",
       "      <td>183</td>\n",
       "      <td>198</td>\n",
       "      <td>66</td>\n",
       "      <td>279</td>\n",
       "    </tr>\n",
       "  </tbody>\n",
       "</table>\n",
       "<p>10000 rows × 23 columns</p>\n",
       "</div>"
      ],
      "text/plain": [
       "       0    1    2    3    4    5    6    7    8    9   ...   13   14   15  \\\n",
       "0     136   39  263  261   93  166  232   88  220  278  ...  125  258   88   \n",
       "1     141    5  191  291  245  253  151  362  242  151  ...  111  306   98   \n",
       "2     269    5   76    2   83  226  141   73  334  271  ...  151   53   86   \n",
       "3     245  362   56  278  123   40  211   61  287  112  ...  353  275  174   \n",
       "4     213  230  299   13  177  224  343  248  294  334  ...  213  154  179   \n",
       "...   ...  ...  ...  ...  ...  ...  ...  ...  ...  ...  ...  ...  ...  ...   \n",
       "9995  170   14   82  291  337  221  293   84   53  359  ...  241  242  225   \n",
       "9996  324   99  102  312  111  292  145  318  132   63  ...  340  195  311   \n",
       "9997  110  246  348  287  249  228  222  164  350  127  ...  250  221  359   \n",
       "9998   23  249  267  319  351  205  275  221  214  308  ...  299   45  198   \n",
       "9999  206  147  235  143  306  305  354   74  212  303  ...  276  147    3   \n",
       "\n",
       "       16   17   18   19   20   21   22  \n",
       "0     253  277  125  226  103  341  270  \n",
       "1      46  259  216  230  124   22   94  \n",
       "2     243  329  346  104  162  146  120  \n",
       "3     165  160   88  276  119  256  112  \n",
       "4     128    8  299  273   33  283  186  \n",
       "...   ...  ...  ...  ...  ...  ...  ...  \n",
       "9995  233   92   59  305  363  104  185  \n",
       "9996  261  113  264  100  337  192  224  \n",
       "9997  356   23  156  191  111  135   18  \n",
       "9998   42  322  323  274  206  321   67  \n",
       "9999   35  230  256  183  198   66  279  \n",
       "\n",
       "[10000 rows x 23 columns]"
      ]
     },
     "execution_count": 91,
     "metadata": {},
     "output_type": "execute_result"
    }
   ],
   "source": [
    "df_data_8 = pd.DataFrame(data_8)\n",
    "df_data_8"
   ]
  },
  {
   "cell_type": "code",
   "execution_count": 99,
   "id": "94f8d05b",
   "metadata": {},
   "outputs": [
    {
     "data": {
      "text/plain": [
       "0       21\n",
       "1       22\n",
       "2       23\n",
       "3       22\n",
       "4       21\n",
       "        ..\n",
       "9995    23\n",
       "9996    23\n",
       "9997    23\n",
       "9998    23\n",
       "9999    22\n",
       "Length: 10000, dtype: int64"
      ]
     },
     "execution_count": 99,
     "metadata": {},
     "output_type": "execute_result"
    }
   ],
   "source": [
    "df_data_8.nunique(axis=1)"
   ]
  },
  {
   "cell_type": "code",
   "execution_count": 121,
   "id": "c3c855d3",
   "metadata": {},
   "outputs": [
    {
     "data": {
      "text/plain": [
       "0        True\n",
       "1        True\n",
       "2       False\n",
       "3        True\n",
       "4        True\n",
       "        ...  \n",
       "9995    False\n",
       "9996    False\n",
       "9997    False\n",
       "9998    False\n",
       "9999     True\n",
       "Length: 10000, dtype: bool"
      ]
     },
     "execution_count": 121,
     "metadata": {},
     "output_type": "execute_result"
    }
   ],
   "source": [
    "df_data_8.nunique(axis=1) < people"
   ]
  },
  {
   "cell_type": "code",
   "execution_count": 122,
   "id": "6aeb28be",
   "metadata": {},
   "outputs": [
    {
     "data": {
      "text/plain": [
       "0.5071"
      ]
     },
     "execution_count": 122,
     "metadata": {},
     "output_type": "execute_result"
    }
   ],
   "source": [
    "(df_data_8.nunique(axis=1) < people).mean()"
   ]
  },
  {
   "cell_type": "markdown",
   "id": "f476564c",
   "metadata": {},
   "source": [
    "What if it's 20 people? "
   ]
  },
  {
   "cell_type": "code",
   "execution_count": 131,
   "id": "a93704a5",
   "metadata": {},
   "outputs": [],
   "source": [
    "n_trial = 100_000"
   ]
  },
  {
   "cell_type": "code",
   "execution_count": 132,
   "id": "5cd3576c",
   "metadata": {},
   "outputs": [],
   "source": [
    "people_1 = 20"
   ]
  },
  {
   "cell_type": "code",
   "execution_count": 133,
   "id": "3338c532",
   "metadata": {},
   "outputs": [],
   "source": [
    "data_8_1 = np.random.choice(days_8,(n_trial,people_1))"
   ]
  },
  {
   "cell_type": "code",
   "execution_count": 134,
   "id": "adea41f3",
   "metadata": {},
   "outputs": [],
   "source": [
    "df_data_8_1 = pd.DataFrame(data_8_1)"
   ]
  },
  {
   "cell_type": "code",
   "execution_count": 135,
   "id": "a63dca7d",
   "metadata": {},
   "outputs": [
    {
     "data": {
      "text/plain": [
       "0.41355"
      ]
     },
     "execution_count": 135,
     "metadata": {},
     "output_type": "execute_result"
    }
   ],
   "source": [
    "(df_data_8_1.nunique(axis=1) < people_1).mean()"
   ]
  },
  {
   "cell_type": "markdown",
   "id": "9de8d8e0",
   "metadata": {},
   "source": [
    "40?"
   ]
  },
  {
   "cell_type": "code",
   "execution_count": 127,
   "id": "3a522ae2",
   "metadata": {},
   "outputs": [],
   "source": [
    "people_2 = 40"
   ]
  },
  {
   "cell_type": "code",
   "execution_count": 128,
   "id": "2543faac",
   "metadata": {},
   "outputs": [],
   "source": [
    "data_8_2 = np.random.choice(days_8,(n_trial,people_2))"
   ]
  },
  {
   "cell_type": "code",
   "execution_count": 129,
   "id": "4c207c6f",
   "metadata": {},
   "outputs": [],
   "source": [
    "df_data_8_2 = pd.DataFrame(data_8_2)"
   ]
  },
  {
   "cell_type": "code",
   "execution_count": 130,
   "id": "2b827ad8",
   "metadata": {},
   "outputs": [
    {
     "data": {
      "text/plain": [
       "0.8956"
      ]
     },
     "execution_count": 130,
     "metadata": {},
     "output_type": "execute_result"
    }
   ],
   "source": [
    "(df_data_8_2.nunique(axis=1) < people_2).mean()"
   ]
  }
 ],
 "metadata": {
  "kernelspec": {
   "display_name": "Python 3 (ipykernel)",
   "language": "python",
   "name": "python3"
  },
  "language_info": {
   "codemirror_mode": {
    "name": "ipython",
    "version": 3
   },
   "file_extension": ".py",
   "mimetype": "text/x-python",
   "name": "python",
   "nbconvert_exporter": "python",
   "pygments_lexer": "ipython3",
   "version": "3.11.5"
  }
 },
 "nbformat": 4,
 "nbformat_minor": 5
}
