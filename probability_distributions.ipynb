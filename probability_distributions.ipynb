{
 "cells": [
  {
   "cell_type": "markdown",
   "id": "5bd3d141",
   "metadata": {},
   "source": [
    "For the following problems, use python to simulate the problem and calculate an experimental probability, then compare that to the theoretical probability."
   ]
  },
  {
   "cell_type": "code",
   "execution_count": 106,
   "id": "e7619cc6",
   "metadata": {},
   "outputs": [],
   "source": [
    "import matplotlib.pyplot as plt\n",
    "import numpy as np\n",
    "import pandas as pd\n",
    "from scipy import stats\n",
    "np.random.seed(123)"
   ]
  },
  {
   "cell_type": "markdown",
   "id": "88876a16",
   "metadata": {},
   "source": [
    "1. A bank found that the average number of cars waiting during the noon hour at a drive-up window follows a Poisson distribution with a mean of 2 cars. Make a chart of this distribution and answer these questions concerning the probability of cars waiting at the drive-up window."
   ]
  },
  {
   "cell_type": "code",
   "execution_count": 70,
   "id": "1eb57d16",
   "metadata": {},
   "outputs": [],
   "source": [
    "trials = 10_000"
   ]
  },
  {
   "cell_type": "code",
   "execution_count": 71,
   "id": "d6699208",
   "metadata": {},
   "outputs": [],
   "source": [
    "cars_waiting_sim = np.random.poisson(2, trials)"
   ]
  },
  {
   "cell_type": "code",
   "execution_count": 5,
   "id": "73a219ee",
   "metadata": {},
   "outputs": [],
   "source": [
    "λ = 2\n",
    "cars_waiting = stats.poisson(λ)"
   ]
  },
  {
   "cell_type": "code",
   "execution_count": 44,
   "id": "719ddb34",
   "metadata": {},
   "outputs": [
    {
     "data": {
      "image/png": "[encoded data removed]",
      "text/plain": [
       "<Figure size 640x480 with 1 Axes>"
      ]
     },
     "metadata": {},
     "output_type": "display_data"
    }
   ],
   "source": [
    "domain = np.arange(0, 9)\n",
    "cars_range = [cars_waiting.pmf(n) for n in domain]\n",
    "plt.bar(domain, cars_range)\n",
    "plt.title('Poisson Distribution of Cars Waiting at Noon Hour')\n",
    "plt.xlabel('Cars')\n",
    "plt.ylabel('Probability')\n",
    "plt.show()"
   ]
  },
  {
   "cell_type": "markdown",
   "id": "6214d59f",
   "metadata": {},
   "source": [
    "What is the probability that no cars drive up in the noon hour?"
   ]
  },
  {
   "cell_type": "code",
   "execution_count": 154,
   "id": "66d22b51",
   "metadata": {},
   "outputs": [
    {
     "data": {
      "text/plain": [
       "0.1357"
      ]
     },
     "execution_count": 154,
     "metadata": {},
     "output_type": "execute_result"
    }
   ],
   "source": [
    "(cars_waiting_sim == 0).mean()"
   ]
  },
  {
   "cell_type": "code",
   "execution_count": 156,
   "id": "e32ac8e5",
   "metadata": {},
   "outputs": [
    {
     "data": {
      "text/plain": [
       "0.1353352832366127"
      ]
     },
     "execution_count": 156,
     "metadata": {},
     "output_type": "execute_result"
    }
   ],
   "source": [
    "stats.poisson(2).pmf(0)"
   ]
  },
  {
   "cell_type": "markdown",
   "id": "e35ecd99",
   "metadata": {},
   "source": [
    "What is the probability that 3 or more cars come through the drive through?"
   ]
  },
  {
   "cell_type": "code",
   "execution_count": 157,
   "id": "3959e4de",
   "metadata": {},
   "outputs": [
    {
     "data": {
      "text/plain": [
       "0.322"
      ]
     },
     "execution_count": 157,
     "metadata": {},
     "output_type": "execute_result"
    }
   ],
   "source": [
    "(cars_waiting_sim >= 3).mean()"
   ]
  },
  {
   "cell_type": "code",
   "execution_count": 158,
   "id": "aa0f1a1a",
   "metadata": {},
   "outputs": [
    {
     "data": {
      "text/plain": [
       "0.32332358381693654"
      ]
     },
     "execution_count": 158,
     "metadata": {},
     "output_type": "execute_result"
    }
   ],
   "source": [
    "stats.poisson(2).sf(2)"
   ]
  },
  {
   "cell_type": "markdown",
   "id": "f8821725",
   "metadata": {},
   "source": [
    "How likely is it that the drive through gets at least 1 car?"
   ]
  },
  {
   "cell_type": "code",
   "execution_count": 159,
   "id": "6ba6227d",
   "metadata": {},
   "outputs": [
    {
     "data": {
      "text/plain": [
       "0.8643"
      ]
     },
     "execution_count": 159,
     "metadata": {},
     "output_type": "execute_result"
    }
   ],
   "source": [
    "(cars_waiting_sim >=1).mean()"
   ]
  },
  {
   "cell_type": "code",
   "execution_count": 160,
   "id": "a6b6e0bb",
   "metadata": {},
   "outputs": [
    {
     "data": {
      "text/plain": [
       "0.8646647167633873"
      ]
     },
     "execution_count": 160,
     "metadata": {},
     "output_type": "execute_result"
    }
   ],
   "source": [
    "stats.poisson(2).sf(0)"
   ]
  },
  {
   "cell_type": "markdown",
   "id": "183901d0",
   "metadata": {},
   "source": [
    "2. Grades of State University graduates are normally distributed with a mean of 3.0 and a standard deviation of .3. Calculate the following:"
   ]
  },
  {
   "cell_type": "code",
   "execution_count": 13,
   "id": "c9d0261a",
   "metadata": {},
   "outputs": [],
   "source": [
    "mean_value = 3.0\n",
    "standard_deviation = 0.3"
   ]
  },
  {
   "cell_type": "code",
   "execution_count": 14,
   "id": "183715e1",
   "metadata": {},
   "outputs": [],
   "source": [
    "grades = stats.norm(mean_value, standard_deviation)"
   ]
  },
  {
   "cell_type": "markdown",
   "id": "d3c99eab",
   "metadata": {},
   "source": [
    "What grade point average is required to be in the top 5% of the graduating class?"
   ]
  },
  {
   "cell_type": "code",
   "execution_count": 75,
   "id": "34e3293c",
   "metadata": {},
   "outputs": [],
   "source": [
    "trials = 10_000"
   ]
  },
  {
   "cell_type": "code",
   "execution_count": 76,
   "id": "aa3c82f6",
   "metadata": {},
   "outputs": [
    {
     "data": {
      "text/plain": [
       "3.4799708718770392"
      ]
     },
     "execution_count": 76,
     "metadata": {},
     "output_type": "execute_result"
    }
   ],
   "source": [
    "position = 95\n",
    "gpa = np.random.normal(mean_value, standard_deviation, trials)\n",
    "np.percentile(gpa,position)"
   ]
  },
  {
   "cell_type": "code",
   "execution_count": 31,
   "id": "5c749b60",
   "metadata": {},
   "outputs": [
    {
     "data": {
      "text/plain": [
       "3.4934560880854417"
      ]
     },
     "execution_count": 31,
     "metadata": {},
     "output_type": "execute_result"
    }
   ],
   "source": [
    "grades.isf(0.05)"
   ]
  },
  {
   "cell_type": "code",
   "execution_count": 161,
   "id": "d83abfb4",
   "metadata": {},
   "outputs": [
    {
     "data": {
      "text/plain": [
       "3.4934560880854417"
      ]
     },
     "execution_count": 161,
     "metadata": {},
     "output_type": "execute_result"
    }
   ],
   "source": [
    "grades.ppf(0.95)"
   ]
  },
  {
   "cell_type": "markdown",
   "id": "3ddffc25",
   "metadata": {},
   "source": [
    "What GPA constitutes the bottom 15% of the class?"
   ]
  },
  {
   "cell_type": "code",
   "execution_count": 163,
   "id": "679450eb",
   "metadata": {},
   "outputs": [
    {
     "data": {
      "text/plain": [
       "2.6869630162461418"
      ]
     },
     "execution_count": 163,
     "metadata": {},
     "output_type": "execute_result"
    }
   ],
   "source": [
    "position = 15\n",
    "gpa = np.random.normal(mean_value, standard_deviation, trials)\n",
    "np.percentile(gpa,position)"
   ]
  },
  {
   "cell_type": "code",
   "execution_count": 23,
   "id": "ff726c77",
   "metadata": {},
   "outputs": [
    {
     "data": {
      "text/plain": [
       "2.689069983151863"
      ]
     },
     "execution_count": 23,
     "metadata": {},
     "output_type": "execute_result"
    }
   ],
   "source": [
    "grades.ppf(0.15)"
   ]
  },
  {
   "cell_type": "markdown",
   "id": "72a9d3a9",
   "metadata": {},
   "source": [
    "An eccentric alumnus left scholarship money for students in the third decile from the bottom of their class. Determine the range of the third decile. Would a student with a 2.8 grade point average qualify for this scholarship? Yes"
   ]
  },
  {
   "cell_type": "code",
   "execution_count": 164,
   "id": "8e4a743f",
   "metadata": {},
   "outputs": [
    {
     "data": {
      "text/plain": [
       "array([2.75193422, 2.84722853])"
      ]
     },
     "execution_count": 164,
     "metadata": {},
     "output_type": "execute_result"
    }
   ],
   "source": [
    "position = .30\n",
    "gpa = np.random.normal(mean_value, standard_deviation, trials)\n",
    "np.percentile(gpa,[position*100 - 10,position*100])"
   ]
  },
  {
   "cell_type": "code",
   "execution_count": 24,
   "id": "887c4c11",
   "metadata": {},
   "outputs": [
    {
     "data": {
      "text/plain": [
       "2.842679846187588"
      ]
     },
     "execution_count": 24,
     "metadata": {},
     "output_type": "execute_result"
    }
   ],
   "source": [
    "grades.ppf(0.30)"
   ]
  },
  {
   "cell_type": "code",
   "execution_count": 26,
   "id": "b417193a",
   "metadata": {},
   "outputs": [
    {
     "data": {
      "text/plain": [
       "2.7475136299281258"
      ]
     },
     "execution_count": 26,
     "metadata": {},
     "output_type": "execute_result"
    }
   ],
   "source": [
    "grades.ppf(0.20)"
   ]
  },
  {
   "cell_type": "code",
   "execution_count": 185,
   "id": "cfb21168",
   "metadata": {},
   "outputs": [
    {
     "data": {
      "text/plain": [
       "array([2.74751363, 2.84267985])"
      ]
     },
     "execution_count": 185,
     "metadata": {},
     "output_type": "execute_result"
    }
   ],
   "source": [
    "grades.ppf([0.2,0.3])"
   ]
  },
  {
   "cell_type": "markdown",
   "id": "4d497394",
   "metadata": {},
   "source": [
    "If I have a GPA of 3.5, what percentile am I in?"
   ]
  },
  {
   "cell_type": "code",
   "execution_count": 80,
   "id": "e556ab3b",
   "metadata": {},
   "outputs": [
    {
     "data": {
      "text/plain": [
       "0.9544"
      ]
     },
     "execution_count": 80,
     "metadata": {},
     "output_type": "execute_result"
    }
   ],
   "source": [
    "grade = 3.5\n",
    "gpa = np.random.normal(mean_value, standard_deviation, trials)\n",
    "(gpa <= 3.5).mean()"
   ]
  },
  {
   "cell_type": "code",
   "execution_count": 81,
   "id": "306df11e",
   "metadata": {},
   "outputs": [
    {
     "data": {
      "text/plain": [
       "0.9522096477271853"
      ]
     },
     "execution_count": 81,
     "metadata": {},
     "output_type": "execute_result"
    }
   ],
   "source": [
    "grades.cdf(3.5)"
   ]
  },
  {
   "cell_type": "markdown",
   "id": "447ca931",
   "metadata": {},
   "source": [
    "3. A marketing website has an average click-through rate of 2%. One day they observe 4326 visitors and 97 click-throughs. How likely is it that this many people or more click through?"
   ]
  },
  {
   "cell_type": "code",
   "execution_count": 82,
   "id": "ff7e2103",
   "metadata": {},
   "outputs": [
    {
     "data": {
      "text/plain": [
       "0.1377"
      ]
     },
     "execution_count": 82,
     "metadata": {},
     "output_type": "execute_result"
    }
   ],
   "source": [
    "trials = 10_000\n",
    "avg_click = .02\n",
    "visitors = 4326\n",
    "clicks = 97\n",
    "\n",
    "data = np.random.choice([\"click\",\"no click\"], (trials,visitors), p=[.02,.98])\n",
    "((data == \"click\").sum(axis=1) >= 97).mean()"
   ]
  },
  {
   "cell_type": "code",
   "execution_count": 83,
   "id": "d12edc50",
   "metadata": {},
   "outputs": [],
   "source": [
    "click_throughs = stats.binom(visitors, avg_click)"
   ]
  },
  {
   "cell_type": "code",
   "execution_count": 173,
   "id": "5cb14caf",
   "metadata": {},
   "outputs": [
    {
     "data": {
      "text/plain": [
       "0.13975823631416448"
      ]
     },
     "execution_count": 173,
     "metadata": {},
     "output_type": "execute_result"
    }
   ],
   "source": [
    "click_throughs.sf(96)"
   ]
  },
  {
   "cell_type": "markdown",
   "id": "25dd1f7e",
   "metadata": {},
   "source": [
    "4. You are working on some statistics homework consisting of 100 questions where all of the answers are a probability rounded to the hundreths place. Looking to save time, you put down random probabilities as the answer to each question."
   ]
  },
  {
   "cell_type": "markdown",
   "id": "b7008121",
   "metadata": {},
   "source": [
    "What is the probability that at least one of your first 60 answers is correct?"
   ]
  },
  {
   "cell_type": "code",
   "execution_count": 186,
   "id": "2b196be7",
   "metadata": {},
   "outputs": [],
   "source": [
    "questions = 60\n",
    "prob_correct = 1/101"
   ]
  },
  {
   "cell_type": "code",
   "execution_count": 187,
   "id": "27e5f1b5",
   "metadata": {},
   "outputs": [
    {
     "data": {
      "text/plain": [
       "0.4517"
      ]
     },
     "execution_count": 187,
     "metadata": {},
     "output_type": "execute_result"
    }
   ],
   "source": [
    "data = np.random.choice([\"correct\",\"not correct\"],(trials,questions),p=[prob_correct,1-prob_correct])\n",
    "((data == \"correct\").sum(axis=1) >= 1).mean()\n"
   ]
  },
  {
   "cell_type": "code",
   "execution_count": 188,
   "id": "17c84b17",
   "metadata": {},
   "outputs": [
    {
     "data": {
      "text/plain": [
       "0.44955038406224"
      ]
     },
     "execution_count": 188,
     "metadata": {},
     "output_type": "execute_result"
    }
   ],
   "source": [
    "stats.binom(questions,prob_correct).sf(0)"
   ]
  },
  {
   "cell_type": "markdown",
   "id": "957ccb00",
   "metadata": {},
   "source": [
    "5. The codeup staff tends to get upset when the student break area is not cleaned up. Suppose that there's a 3% chance that any one student cleans the break area when they visit it, and, on any given day, about 90% of the 3 active cohorts of 22 students visit the break area. How likely is it that the break area gets cleaned up each day? How likely is it that it goes two days without getting cleaned up? All week?"
   ]
  },
  {
   "cell_type": "code",
   "execution_count": 53,
   "id": "7e9492c2",
   "metadata": {},
   "outputs": [
    {
     "data": {
      "text/plain": [
       "59"
      ]
     },
     "execution_count": 53,
     "metadata": {},
     "output_type": "execute_result"
    }
   ],
   "source": [
    "prob_cleaning = .03\n",
    "cohorts = 3\n",
    "students_per_cohort = 22\n",
    "prob_students_break = .9\n",
    "students_in_breakroom = round(cohorts * students_per_cohort * prob_students_break)\n",
    "students_in_breakroom"
   ]
  },
  {
   "cell_type": "markdown",
   "id": "1747bc96",
   "metadata": {},
   "source": [
    "How likely is it that the break area gets cleaned up each day?"
   ]
  },
  {
   "cell_type": "code",
   "execution_count": 86,
   "id": "428cfe91",
   "metadata": {},
   "outputs": [
    {
     "data": {
      "text/plain": [
       "0.8282"
      ]
     },
     "execution_count": 86,
     "metadata": {},
     "output_type": "execute_result"
    }
   ],
   "source": [
    "data = np.random.choice([\"clean\",\"no clean\"],(trials,students_in_breakroom),p=[.03,.97])\n",
    "p_day_clean = ((data == \"clean\").sum(axis=1) >= 1).mean()\n",
    "p_day_clean"
   ]
  },
  {
   "cell_type": "code",
   "execution_count": 52,
   "id": "bcdf132a",
   "metadata": {},
   "outputs": [
    {
     "data": {
      "text/plain": [
       "0.8342199288437352"
      ]
     },
     "execution_count": 52,
     "metadata": {},
     "output_type": "execute_result"
    }
   ],
   "source": [
    "prob_clean_day = stats.binom(students_in_breakroom,prob_cleaning).sf(prob_students_break)\n",
    "prob_clean_day"
   ]
  },
  {
   "cell_type": "markdown",
   "id": "31bb694d",
   "metadata": {},
   "source": [
    "How likely is it that it goes two days without getting cleaned up?"
   ]
  },
  {
   "cell_type": "code",
   "execution_count": 205,
   "id": "d3e640e2",
   "metadata": {},
   "outputs": [
    {
     "data": {
      "text/plain": [
       "0.026658541032798935"
      ]
     },
     "execution_count": 205,
     "metadata": {},
     "output_type": "execute_result"
    }
   ],
   "source": [
    "stats.binom(((students_in_breakroom * 2) + 1), prob_cleaning).pmf(0)"
   ]
  },
  {
   "cell_type": "code",
   "execution_count": 211,
   "id": "b1990b3b",
   "metadata": {},
   "outputs": [
    {
     "data": {
      "text/plain": [
       "0.00012521651388088851"
      ]
     },
     "execution_count": 211,
     "metadata": {},
     "output_type": "execute_result"
    }
   ],
   "source": [
    "stats.binom((students_in_breakroom * 5), prob_cleaning).pmf(0)"
   ]
  },
  {
   "cell_type": "markdown",
   "id": "bcd1bd95",
   "metadata": {},
   "source": [
    "6. You want to get lunch at La Panaderia, but notice that the line is usually very long at lunchtime. After several weeks of careful observation, you notice that the average number of people in line when your lunch break starts is normally distributed with a mean of 15 and standard deviation of 3. If it takes 2 minutes for each person to order, and 10 minutes from ordering to getting your food, what is the likelihood that you have at least 15 minutes left to eat your food before you have to go back to class? Assume you have one hour for lunch, and ignore travel time to and from La Panaderia."
   ]
  },
  {
   "cell_type": "code",
   "execution_count": 65,
   "id": "310d9fcd",
   "metadata": {},
   "outputs": [],
   "source": [
    "mean = 15\n",
    "std = 3\n",
    "time_person = 2\n",
    "receive_food = 10\n",
    "lunch_time = 60"
   ]
  },
  {
   "cell_type": "code",
   "execution_count": 94,
   "id": "e943cd03",
   "metadata": {},
   "outputs": [
    {
     "data": {
      "text/plain": [
       "0.6891"
      ]
     },
     "execution_count": 94,
     "metadata": {},
     "output_type": "execute_result"
    }
   ],
   "source": [
    "num_people = np.random.normal(mean,std,trials).round()\n",
    "wait = (num_people + 1) * time_person + receive_food\n",
    "((lunch_time - wait) >=15).mean()"
   ]
  },
  {
   "cell_type": "code",
   "execution_count": 195,
   "id": "707beaa6",
   "metadata": {},
   "outputs": [
    {
     "data": {
      "text/plain": [
       "0.6914624612740131"
      ]
     },
     "execution_count": 195,
     "metadata": {},
     "output_type": "execute_result"
    }
   ],
   "source": [
    "mean_order_time = mean * time_person\n",
    "std_order_time = std * time_person\n",
    "#60 - (15 + 10 + 2) = 33\n",
    "stats.norm(mean_order_time,std_order_time).cdf(33)\n"
   ]
  },
  {
   "cell_type": "code",
   "execution_count": null,
   "id": "7c9987d0",
   "metadata": {},
   "outputs": [],
   "source": [
    "value -> probability\n",
    "-- pmf: probability at a particular value of random variable (only for discrete distributions!)\n",
    "-- pdf: probability density at a particular value of random variable (for continuous distributions)\n",
    "-- cdf: cumulative probablity for less than or equal to value of random variable\n",
    "-- sf: probability for a random variable greater than certain value\n",
    "probability -> value\n",
    "-- ppf: less than or equal to a point\n",
    "-- isf: greater than a point"
   ]
  },
  {
   "cell_type": "markdown",
   "id": "193b0afd",
   "metadata": {},
   "source": [
    "7. Connect to the employees database and find the average salary of current employees, along with the standard deviation. For the following questions, calculate the answer based on modeling the employees salaries with a normal distribution defined by the calculated mean and standard deviation then compare this answer to the actual values present in the salaries dataset."
   ]
  },
  {
   "cell_type": "code",
   "execution_count": null,
   "id": "ca5d9fdf",
   "metadata": {},
   "outputs": [],
   "source": [
    "from env import user, password, host"
   ]
  },
  {
   "cell_type": "code",
   "execution_count": 109,
   "id": "d71b5527",
   "metadata": {},
   "outputs": [
    {
     "data": {
      "text/html": [
       "<div>\n",
       "<style scoped>\n",
       "    .dataframe tbody tr th:only-of-type {\n",
       "        vertical-align: middle;\n",
       "    }\n",
       "\n",
       "    .dataframe tbody tr th {\n",
       "        vertical-align: top;\n",
       "    }\n",
       "\n",
       "    .dataframe thead th {\n",
       "        text-align: right;\n",
       "    }\n",
       "</style>\n",
       "<table border=\"1\" class=\"dataframe\">\n",
       "  <thead>\n",
       "    <tr style=\"text-align: right;\">\n",
       "      <th></th>\n",
       "      <th>Tables_in_employees</th>\n",
       "    </tr>\n",
       "  </thead>\n",
       "  <tbody>\n",
       "    <tr>\n",
       "      <th>0</th>\n",
       "      <td>departments</td>\n",
       "    </tr>\n",
       "    <tr>\n",
       "      <th>1</th>\n",
       "      <td>dept_emp</td>\n",
       "    </tr>\n",
       "    <tr>\n",
       "      <th>2</th>\n",
       "      <td>dept_manager</td>\n",
       "    </tr>\n",
       "    <tr>\n",
       "      <th>3</th>\n",
       "      <td>employees</td>\n",
       "    </tr>\n",
       "    <tr>\n",
       "      <th>4</th>\n",
       "      <td>salaries</td>\n",
       "    </tr>\n",
       "    <tr>\n",
       "      <th>5</th>\n",
       "      <td>titles</td>\n",
       "    </tr>\n",
       "  </tbody>\n",
       "</table>\n",
       "</div>"
      ],
      "text/plain": [
       "  Tables_in_employees\n",
       "0         departments\n",
       "1            dept_emp\n",
       "2        dept_manager\n",
       "3           employees\n",
       "4            salaries\n",
       "5              titles"
      ]
     },
     "execution_count": 109,
     "metadata": {},
     "output_type": "execute_result"
    }
   ],
   "source": [
    "pd.read_sql(\"show tables\", url)"
   ]
  },
  {
   "cell_type": "code",
   "execution_count": 196,
   "id": "77f84679",
   "metadata": {},
   "outputs": [],
   "source": [
    "query = '''\n",
    "    SELECT * \n",
    "    FROM salaries \n",
    "    WHERE to_date > NOW()\n",
    "    '''"
   ]
  },
  {
   "cell_type": "code",
   "execution_count": 197,
   "id": "80d107e0",
   "metadata": {},
   "outputs": [
    {
     "data": {
      "text/html": [
       "<div>\n",
       "<style scoped>\n",
       "    .dataframe tbody tr th:only-of-type {\n",
       "        vertical-align: middle;\n",
       "    }\n",
       "\n",
       "    .dataframe tbody tr th {\n",
       "        vertical-align: top;\n",
       "    }\n",
       "\n",
       "    .dataframe thead th {\n",
       "        text-align: right;\n",
       "    }\n",
       "</style>\n",
       "<table border=\"1\" class=\"dataframe\">\n",
       "  <thead>\n",
       "    <tr style=\"text-align: right;\">\n",
       "      <th></th>\n",
       "      <th>emp_no</th>\n",
       "      <th>salary</th>\n",
       "      <th>from_date</th>\n",
       "      <th>to_date</th>\n",
       "    </tr>\n",
       "  </thead>\n",
       "  <tbody>\n",
       "    <tr>\n",
       "      <th>0</th>\n",
       "      <td>10001</td>\n",
       "      <td>88958</td>\n",
       "      <td>2002-06-22</td>\n",
       "      <td>9999-01-01</td>\n",
       "    </tr>\n",
       "    <tr>\n",
       "      <th>1</th>\n",
       "      <td>10002</td>\n",
       "      <td>72527</td>\n",
       "      <td>2001-08-02</td>\n",
       "      <td>9999-01-01</td>\n",
       "    </tr>\n",
       "    <tr>\n",
       "      <th>2</th>\n",
       "      <td>10003</td>\n",
       "      <td>43311</td>\n",
       "      <td>2001-12-01</td>\n",
       "      <td>9999-01-01</td>\n",
       "    </tr>\n",
       "    <tr>\n",
       "      <th>3</th>\n",
       "      <td>10004</td>\n",
       "      <td>74057</td>\n",
       "      <td>2001-11-27</td>\n",
       "      <td>9999-01-01</td>\n",
       "    </tr>\n",
       "    <tr>\n",
       "      <th>4</th>\n",
       "      <td>10005</td>\n",
       "      <td>94692</td>\n",
       "      <td>2001-09-09</td>\n",
       "      <td>9999-01-01</td>\n",
       "    </tr>\n",
       "  </tbody>\n",
       "</table>\n",
       "</div>"
      ],
      "text/plain": [
       "   emp_no  salary   from_date     to_date\n",
       "0   10001   88958  2002-06-22  9999-01-01\n",
       "1   10002   72527  2001-08-02  9999-01-01\n",
       "2   10003   43311  2001-12-01  9999-01-01\n",
       "3   10004   74057  2001-11-27  9999-01-01\n",
       "4   10005   94692  2001-09-09  9999-01-01"
      ]
     },
     "execution_count": 197,
     "metadata": {},
     "output_type": "execute_result"
    }
   ],
   "source": [
    "df = pd.read_sql(query,url)\n",
    "df.head()"
   ]
  },
  {
   "cell_type": "code",
   "execution_count": 198,
   "id": "c3da6dfc",
   "metadata": {},
   "outputs": [],
   "source": [
    "mean_salary = df.salary.mean()\n",
    "std_salary = df.salary.std()"
   ]
  },
  {
   "cell_type": "code",
   "execution_count": 199,
   "id": "855cb117",
   "metadata": {},
   "outputs": [],
   "source": [
    "data = np.random.normal(mean_salary,std_salary,trials)"
   ]
  },
  {
   "cell_type": "code",
   "execution_count": 200,
   "id": "0a9c3ebc",
   "metadata": {},
   "outputs": [],
   "source": [
    "salary_distro = stats.norm(mean_salary,std_salary)"
   ]
  },
  {
   "cell_type": "markdown",
   "id": "f2bba0d0",
   "metadata": {},
   "source": [
    "What percent of employees earn less than 60,000?"
   ]
  },
  {
   "cell_type": "code",
   "execution_count": 201,
   "id": "f4d55aa8",
   "metadata": {},
   "outputs": [
    {
     "data": {
      "text/plain": [
       "0.2438"
      ]
     },
     "execution_count": 201,
     "metadata": {},
     "output_type": "execute_result"
    }
   ],
   "source": [
    "(data < 60000).mean()"
   ]
  },
  {
   "cell_type": "code",
   "execution_count": 202,
   "id": "28a05630",
   "metadata": {},
   "outputs": [
    {
     "data": {
      "text/plain": [
       "0.24385742480214434"
      ]
     },
     "execution_count": 202,
     "metadata": {},
     "output_type": "execute_result"
    }
   ],
   "source": [
    "salary_distro.cdf(60000)"
   ]
  },
  {
   "cell_type": "code",
   "execution_count": 203,
   "id": "71ba39d5",
   "metadata": {},
   "outputs": [
    {
     "data": {
      "text/plain": [
       "0.2705727041028802"
      ]
     },
     "execution_count": 203,
     "metadata": {},
     "output_type": "execute_result"
    }
   ],
   "source": [
    "(df.salary < 60000).mean()"
   ]
  },
  {
   "cell_type": "markdown",
   "id": "bc5585de",
   "metadata": {},
   "source": [
    "What percent of employees earn more than 95,000?"
   ]
  },
  {
   "cell_type": "code",
   "execution_count": 140,
   "id": "5c487922",
   "metadata": {},
   "outputs": [
    {
     "data": {
      "text/plain": [
       "0.0933"
      ]
     },
     "execution_count": 140,
     "metadata": {},
     "output_type": "execute_result"
    }
   ],
   "source": [
    "(data > 95000).mean()"
   ]
  },
  {
   "cell_type": "code",
   "execution_count": 138,
   "id": "8970e42d",
   "metadata": {},
   "outputs": [
    {
     "data": {
      "text/plain": [
       "0.1086272092752078"
      ]
     },
     "execution_count": 138,
     "metadata": {},
     "output_type": "execute_result"
    }
   ],
   "source": [
    "(df.salary > 95000).mean()"
   ]
  },
  {
   "cell_type": "code",
   "execution_count": 139,
   "id": "e972a030",
   "metadata": {},
   "outputs": [
    {
     "data": {
      "text/plain": [
       "0.09208819199804058"
      ]
     },
     "execution_count": 139,
     "metadata": {},
     "output_type": "execute_result"
    }
   ],
   "source": [
    "salary_distro.sf(95000)"
   ]
  },
  {
   "cell_type": "markdown",
   "id": "f6c5f482",
   "metadata": {},
   "source": [
    "What percent of employees earn between 65,000 and 80,000?"
   ]
  },
  {
   "cell_type": "code",
   "execution_count": 141,
   "id": "8f60be81",
   "metadata": {},
   "outputs": [
    {
     "data": {
      "text/plain": [
       "0.33"
      ]
     },
     "execution_count": 141,
     "metadata": {},
     "output_type": "execute_result"
    }
   ],
   "source": [
    "((data > 65000) & (data < 80000)).mean()"
   ]
  },
  {
   "cell_type": "code",
   "execution_count": 142,
   "id": "4f0bd0e6",
   "metadata": {},
   "outputs": [
    {
     "data": {
      "text/plain": [
       "0.33506056854466654"
      ]
     },
     "execution_count": 142,
     "metadata": {},
     "output_type": "execute_result"
    }
   ],
   "source": [
    "salary_distro.cdf(80000) - salary_distro.cdf(65000)"
   ]
  },
  {
   "cell_type": "code",
   "execution_count": 143,
   "id": "ca9aa346",
   "metadata": {},
   "outputs": [
    {
     "data": {
      "text/plain": [
       "0.325107028035515"
      ]
     },
     "execution_count": 143,
     "metadata": {},
     "output_type": "execute_result"
    }
   ],
   "source": [
    "((df.salary > 65000) & (df.salary < 80000)).mean()"
   ]
  },
  {
   "cell_type": "markdown",
   "id": "f5cc9c09",
   "metadata": {},
   "source": [
    "What do the top 5% of employees make?"
   ]
  },
  {
   "cell_type": "code",
   "execution_count": 144,
   "id": "af86621b",
   "metadata": {},
   "outputs": [
    {
     "data": {
      "text/plain": [
       "100665.72444298057"
      ]
     },
     "execution_count": 144,
     "metadata": {},
     "output_type": "execute_result"
    }
   ],
   "source": [
    "np.percentile(data,95)"
   ]
  },
  {
   "cell_type": "code",
   "execution_count": 145,
   "id": "5e2a5a13",
   "metadata": {},
   "outputs": [
    {
     "data": {
      "text/plain": [
       "100484.64454102777"
      ]
     },
     "execution_count": 145,
     "metadata": {},
     "output_type": "execute_result"
    }
   ],
   "source": [
    "salary_distro.isf(.05)"
   ]
  },
  {
   "cell_type": "code",
   "execution_count": 146,
   "id": "497265cf",
   "metadata": {},
   "outputs": [
    {
     "data": {
      "text/plain": [
       "104225.84999999998"
      ]
     },
     "execution_count": 146,
     "metadata": {},
     "output_type": "execute_result"
    }
   ],
   "source": [
    "np.percentile(df.salary,95)"
   ]
  },
  {
   "cell_type": "code",
   "execution_count": 147,
   "id": "601aac99",
   "metadata": {},
   "outputs": [
    {
     "data": {
      "text/plain": [
       "104225.84999999998"
      ]
     },
     "execution_count": 147,
     "metadata": {},
     "output_type": "execute_result"
    }
   ],
   "source": [
    "df.salary.quantile(.95)"
   ]
  },
  {
   "cell_type": "code",
   "execution_count": null,
   "id": "5dadd3e8",
   "metadata": {},
   "outputs": [],
   "source": []
  }
 ],
 "metadata": {
  "kernelspec": {
   "display_name": "Python 3 (ipykernel)",
   "language": "python",
   "name": "python3"
  },
  "language_info": {
   "codemirror_mode": {
    "name": "ipython",
    "version": 3
   },
   "file_extension": ".py",
   "mimetype": "text/x-python",
   "name": "python",
   "nbconvert_exporter": "python",
   "pygments_lexer": "ipython3",
   "version": "3.11.5"
  }
 },
 "nbformat": 4,
 "nbformat_minor": 5
}
