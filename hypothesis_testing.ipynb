{
 "cells": [
  {
   "cell_type": "markdown",
   "id": "db120648",
   "metadata": {},
   "source": [
    "For each of the following questions, formulate a null and alternative hypothesis (be as specific as you can be), then give an example of what a true positive, true negative, type I and type II errors would look like. Note that some of the questions are intentionally phrased in a vague way. It is your job to reword these as more precise questions that could be tested."
   ]
  },
  {
   "cell_type": "markdown",
   "id": "b0d93119",
   "metadata": {},
   "source": [
    "Has the network latency gone up since we switched internet service providers?"
   ]
  },
  {
   "cell_type": "markdown",
   "id": "44f52f4b",
   "metadata": {},
   "source": [
    "Question = Has internet speed slowed down (internet_slowed, boolean) since switching internet service providers?\n",
    "\n",
    "H0 = There is no significant evidence that the network latency has gone up since switching internet service providers.\n",
    "\n",
    "Ha = There is significant evidence that the network latency has gone up since switching internet service providers.\n",
    "\n",
    "True positive = We rejected the H0 and the H0 was actually false.\n",
    "\n",
    "True negative = We failed to reject the H0 and the H0 was actually true.\n",
    "\n",
    "Type I error = We rejected the H0, but, in reality, the H0 is true.\n",
    "\n",
    "Type II error = We failed to reject the H0 when it is actually false."
   ]
  },
  {
   "cell_type": "markdown",
   "id": "3b15a619",
   "metadata": {},
   "source": [
    "Is the website redesign any good?"
   ]
  },
  {
   "cell_type": "markdown",
   "id": "d126e9a0",
   "metadata": {},
   "source": [
    "Question = Has the website redesign specifically led to an increase in sales(sales_increase, boolean)? \n",
    "\n",
    "H0 = There is no significant evidence that the website redesign led to an increase in sales.\n",
    "\n",
    "Ha = There is significant evidence that the website redesign led to an increase in sales.\n",
    "\n",
    "True positive = We rejected the H0 and the H0 was actually false.\n",
    "\n",
    "True negative = We failed to reject the H0 and the H0 was actually true.\n",
    "\n",
    "Type I error = We rejected the H0, but, in reality, the H0 is true.\n",
    "\n",
    "Type II error = We failed to reject the H0 when it is actually false."
   ]
  },
  {
   "cell_type": "markdown",
   "id": "63e24f40",
   "metadata": {},
   "source": [
    "Is our television ad driving more sales?"
   ]
  },
  {
   "cell_type": "markdown",
   "id": "92a88999",
   "metadata": {},
   "source": [
    "Question = Is there significant evidence that the sales have increased (sales_increased, boolean) due to the television advertisement?\n",
    "\n",
    "H0 = There is no significant evidence that the sales have increased due to the television advertisement.\n",
    "\n",
    "Ha = There is significant evidence that the sales have increased due to the television advertisement.\n",
    "\n",
    "True positive = We rejected the H0 and the H0 was actually false.\n",
    "\n",
    "True negative = We failed to reject the H0 and the H0 was actually true.\n",
    "\n",
    "Type I error = We rejected the H0, but, in reality, the H0 is true.\n",
    "\n",
    "Type II error = We failed to reject the H0 when it is actually false."
   ]
  }
 ],
 "metadata": {
  "kernelspec": {
   "display_name": "Python 3 (ipykernel)",
   "language": "python",
   "name": "python3"
  },
  "language_info": {
   "codemirror_mode": {
    "name": "ipython",
    "version": 3
   },
   "file_extension": ".py",
   "mimetype": "text/x-python",
   "name": "python",
   "nbconvert_exporter": "python",
   "pygments_lexer": "ipython3",
   "version": "3.11.5"
  }
 },
 "nbformat": 4,
 "nbformat_minor": 5
}
